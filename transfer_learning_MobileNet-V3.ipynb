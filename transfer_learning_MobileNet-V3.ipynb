{
 "cells": [
  {
   "cell_type": "code",
   "execution_count": 8,
   "id": "537a1480-b5d1-47e9-b381-13e6cb0231e6",
   "metadata": {},
   "outputs": [],
   "source": [
    "# transfer learning using MobileNet-V3 large \n",
    "\n",
    "from tensorflow.keras import Model \n",
    "from tensorflow.keras.applications import MobileNetV3Large \n",
    "from tensorflow.keras.preprocessing.image import ImageDataGenerator \n",
    "from tensorflow.keras.layers import Dense, GlobalAveragePooling2D\n",
    "from tensorflow.keras.optimizers import Adam\n",
    "from tensorflow.keras.callbacks import ReduceLROnPlateau\n",
    "from tensorflow.keras.regularizers import l2\n",
    "from tensorflow.keras.callbacks import EarlyStopping, ModelCheckpoint\n",
    "from tensorflow.keras.layers import Dropout\n",
    "from tensorflow.keras.regularizers import l2\n",
    "from sklearn.metrics import confusion_matrix, classification_report\n",
    "import numpy as np"
   ]
  },
  {
   "cell_type": "code",
   "execution_count": 9,
   "id": "220cbd35-08d8-49ad-90d1-901cabf101fe",
   "metadata": {},
   "outputs": [],
   "source": [
    "trainPath = \"G:/desktop/project/sweetClassification/sweetDataset/train\"\n",
    "ValidPath = \"G:/desktop/project/sweetClassification/sweetDataset/validate\""
   ]
  },
  {
   "cell_type": "code",
   "execution_count": 10,
   "id": "5ecaefa5-be46-460c-8e72-d0c00fba81fb",
   "metadata": {},
   "outputs": [
    {
     "name": "stdout",
     "output_type": "stream",
     "text": [
      "Found 2083 images belonging to 9 classes.\n",
      "Found 371 images belonging to 9 classes.\n"
     ]
    }
   ],
   "source": [
    "trainGenerator = ImageDataGenerator(\n",
    "    rotation_range=15 ,\n",
    "    width_shift_range=0.1,\n",
    "    height_shift_range=0.1,\n",
    "    brightness_range=(0, 0.2)).flow_from_directory(trainPath, target_size=(320,320),batch_size=32)\n",
    "\n",
    "ValidGenerator = ImageDataGenerator(\n",
    "    rotation_range=15 ,\n",
    "    width_shift_range=0.1,\n",
    "    height_shift_range=0.1,\n",
    "    brightness_range=(0, 0.2)).flow_from_directory(ValidPath, target_size=(320,320), batch_size=32)"
   ]
  },
  {
   "cell_type": "code",
   "execution_count": 11,
   "id": "aab35534-b92b-47fa-8ad3-2c661cae8124",
   "metadata": {},
   "outputs": [
    {
     "name": "stderr",
     "output_type": "stream",
     "text": [
      "C:\\Users\\vishw\\AppData\\Local\\Programs\\Python\\Python312\\Lib\\site-packages\\keras\\src\\applications\\mobilenet_v3.py:512: UserWarning: `input_shape` is undefined or non-square, or `rows` is not 224. Weights for input shape (224, 224) will be loaded as the default.\n",
      "  return MobileNetV3(\n"
     ]
    }
   ],
   "source": [
    "baseModel = MobileNetV3Large(weights= \"imagenet\", include_top=False)"
   ]
  },
  {
   "cell_type": "code",
   "execution_count": null,
   "id": "ecb80d9a-c57b-4181-a052-3fe8a1868e97",
   "metadata": {},
   "outputs": [],
   "source": []
  },
  {
   "cell_type": "code",
   "execution_count": null,
   "id": "78480066-99d2-41bc-a80e-36c2d5726aa0",
   "metadata": {},
   "outputs": [],
   "source": []
  },
  {
   "cell_type": "code",
   "execution_count": null,
   "id": "5410052b-1b34-47af-b939-c58a21831388",
   "metadata": {},
   "outputs": [],
   "source": [
    "x = baseModel.output\n",
    "x = GlobalAveragePooling2D()(x)\n",
    "x = Dense(512, activation='relu')(x)\n",
    "x = Dense(256, activation='relu')(x)\n",
    "x = Dense(128, activation='relu')(x)\n",
    "predictionLayer = Dense(9, activation='softmax')(x)"
   ]
  },
  {
   "cell_type": "code",
   "execution_count": null,
   "id": "5f343395-2b59-4086-9dad-5fb87a47512e",
   "metadata": {},
   "outputs": [],
   "source": [
    "model = Model(inputs=baseModel.input , outputs=predictionLayer)\n",
    "print(model.summary())"
   ]
  },
  {
   "cell_type": "code",
   "execution_count": null,
   "id": "f42de8dd-1ca4-486e-b9c6-a2893b31bfca",
   "metadata": {},
   "outputs": [],
   "source": [
    "# freeze the layers of the MobileNetV3 (already trained)\n",
    "for layer in model.layers[:-5]:\n",
    "    layer.trainable = False"
   ]
  },
  {
   "cell_type": "code",
   "execution_count": null,
   "id": "bec4d839-38ac-482e-85ef-0afe1817ff89",
   "metadata": {},
   "outputs": [],
   "source": [
    "# Compile\n",
    "# Adjusting the learning rate\n",
    "optimizer = Adam(learning_rate=0.0001)\n",
    "\n",
    "# Adding ReduceLROnPlateau callback to dynamically adjust learning rate\n",
    "reduce_lr = ReduceLROnPlateau(monitor='val_loss', factor=0.2, patience=3, min_lr=1e-7)\n",
    "\n",
    "model.compile(loss='categorical_crossentropy', optimizer=optimizer, metrics=['accuracy'])"
   ]
  },
  {
   "cell_type": "code",
   "execution_count": null,
   "id": "51a15237-fb8f-4c18-a161-dfe9d7068b04",
   "metadata": {},
   "outputs": [],
   "source": [
    "# train\n",
    "history = model.fit(trainGenerator, validation_data=ValidGenerator, epochs=15, callbacks=[reduce_lr])"
   ]
  },
  {
   "cell_type": "code",
   "execution_count": null,
   "id": "617e4159-8371-407e-8ecd-e54e4fb923ed",
   "metadata": {},
   "outputs": [],
   "source": []
  },
  {
   "cell_type": "code",
   "execution_count": null,
   "id": "10a745cb-890c-4832-8021-277ab363a166",
   "metadata": {},
   "outputs": [],
   "source": [
    "# Plot training history\n",
    "import matplotlib.pyplot as plt\n",
    "\n",
    "plt.plot(history.history['accuracy'], label='accuracy')\n",
    "plt.plot(history.history['val_accuracy'], label='val_accuracy')\n",
    "plt.xlabel('Epoch')\n",
    "plt.ylabel('Accuracy')\n",
    "plt.legend()\n",
    "plt.show()"
   ]
  },
  {
   "cell_type": "markdown",
   "id": "9e53d730-7098-4e20-8084-e2fc4a72e3a2",
   "metadata": {},
   "source": [
    "It seems like model is overfitted we need to fine tune our model"
   ]
  },
  {
   "cell_type": "code",
   "execution_count": 13,
   "id": "8f67fdcd-9424-4ac0-b591-5351d3b51aba",
   "metadata": {},
   "outputs": [
    {
     "name": "stdout",
     "output_type": "stream",
     "text": [
      "Epoch 1/50\n",
      "\u001b[1m66/66\u001b[0m \u001b[32m━━━━━━━━━━━━━━━━━━━━\u001b[0m\u001b[37m\u001b[0m \u001b[1m114s\u001b[0m 2s/step - accuracy: 0.1200 - loss: 13.9641 - val_accuracy: 0.3720 - val_loss: 12.8549\n",
      "Epoch 2/50\n",
      "\u001b[1m66/66\u001b[0m \u001b[32m━━━━━━━━━━━━━━━━━━━━\u001b[0m\u001b[37m\u001b[0m \u001b[1m108s\u001b[0m 2s/step - accuracy: 0.2240 - loss: 12.7209 - val_accuracy: 0.4286 - val_loss: 11.8105\n",
      "Epoch 3/50\n",
      "\u001b[1m66/66\u001b[0m \u001b[32m━━━━━━━━━━━━━━━━━━━━\u001b[0m\u001b[37m\u001b[0m \u001b[1m110s\u001b[0m 2s/step - accuracy: 0.3535 - loss: 11.6753 - val_accuracy: 0.4825 - val_loss: 10.8831\n",
      "Epoch 4/50\n",
      "\u001b[1m66/66\u001b[0m \u001b[32m━━━━━━━━━━━━━━━━━━━━\u001b[0m\u001b[37m\u001b[0m \u001b[1m107s\u001b[0m 2s/step - accuracy: 0.3991 - loss: 10.8036 - val_accuracy: 0.5013 - val_loss: 10.1196\n",
      "Epoch 5/50\n",
      "\u001b[1m66/66\u001b[0m \u001b[32m━━━━━━━━━━━━━━━━━━━━\u001b[0m\u001b[37m\u001b[0m \u001b[1m107s\u001b[0m 2s/step - accuracy: 0.4697 - loss: 9.9745 - val_accuracy: 0.5472 - val_loss: 9.3461\n",
      "Epoch 6/50\n",
      "\u001b[1m66/66\u001b[0m \u001b[32m━━━━━━━━━━━━━━━━━━━━\u001b[0m\u001b[37m\u001b[0m \u001b[1m106s\u001b[0m 2s/step - accuracy: 0.5001 - loss: 9.2840 - val_accuracy: 0.5391 - val_loss: 8.8332\n",
      "Epoch 7/50\n",
      "\u001b[1m66/66\u001b[0m \u001b[32m━━━━━━━━━━━━━━━━━━━━\u001b[0m\u001b[37m\u001b[0m \u001b[1m106s\u001b[0m 2s/step - accuracy: 0.5275 - loss: 8.7173 - val_accuracy: 0.6146 - val_loss: 8.2022\n",
      "Epoch 8/50\n",
      "\u001b[1m66/66\u001b[0m \u001b[32m━━━━━━━━━━━━━━━━━━━━\u001b[0m\u001b[37m\u001b[0m \u001b[1m106s\u001b[0m 2s/step - accuracy: 0.5726 - loss: 8.1356 - val_accuracy: 0.5849 - val_loss: 7.7312\n",
      "Epoch 9/50\n",
      "\u001b[1m66/66\u001b[0m \u001b[32m━━━━━━━━━━━━━━━━━━━━\u001b[0m\u001b[37m\u001b[0m \u001b[1m106s\u001b[0m 2s/step - accuracy: 0.5765 - loss: 7.6444 - val_accuracy: 0.5903 - val_loss: 7.3241\n",
      "Epoch 10/50\n",
      "\u001b[1m66/66\u001b[0m \u001b[32m━━━━━━━━━━━━━━━━━━━━\u001b[0m\u001b[37m\u001b[0m \u001b[1m106s\u001b[0m 2s/step - accuracy: 0.5729 - loss: 7.2837 - val_accuracy: 0.5930 - val_loss: 6.9631\n",
      "Epoch 11/50\n",
      "\u001b[1m66/66\u001b[0m \u001b[32m━━━━━━━━━━━━━━━━━━━━\u001b[0m\u001b[37m\u001b[0m \u001b[1m107s\u001b[0m 2s/step - accuracy: 0.6021 - loss: 6.9004 - val_accuracy: 0.5903 - val_loss: 6.6498\n",
      "Epoch 12/50\n",
      "\u001b[1m66/66\u001b[0m \u001b[32m━━━━━━━━━━━━━━━━━━━━\u001b[0m\u001b[37m\u001b[0m \u001b[1m106s\u001b[0m 2s/step - accuracy: 0.6065 - loss: 6.5528 - val_accuracy: 0.6146 - val_loss: 6.2915\n",
      "Epoch 13/50\n",
      "\u001b[1m66/66\u001b[0m \u001b[32m━━━━━━━━━━━━━━━━━━━━\u001b[0m\u001b[37m\u001b[0m \u001b[1m106s\u001b[0m 2s/step - accuracy: 0.6114 - loss: 6.2164 - val_accuracy: 0.6280 - val_loss: 6.0101\n",
      "Epoch 14/50\n",
      "\u001b[1m66/66\u001b[0m \u001b[32m━━━━━━━━━━━━━━━━━━━━\u001b[0m\u001b[37m\u001b[0m \u001b[1m107s\u001b[0m 2s/step - accuracy: 0.6039 - loss: 5.9641 - val_accuracy: 0.5984 - val_loss: 5.7817\n",
      "Epoch 15/50\n",
      "\u001b[1m66/66\u001b[0m \u001b[32m━━━━━━━━━━━━━━━━━━━━\u001b[0m\u001b[37m\u001b[0m \u001b[1m106s\u001b[0m 2s/step - accuracy: 0.6339 - loss: 5.6752 - val_accuracy: 0.6253 - val_loss: 5.5192\n",
      "Epoch 16/50\n",
      "\u001b[1m66/66\u001b[0m \u001b[32m━━━━━━━━━━━━━━━━━━━━\u001b[0m\u001b[37m\u001b[0m \u001b[1m107s\u001b[0m 2s/step - accuracy: 0.6228 - loss: 5.4567 - val_accuracy: 0.6065 - val_loss: 5.3650\n",
      "Epoch 17/50\n",
      "\u001b[1m66/66\u001b[0m \u001b[32m━━━━━━━━━━━━━━━━━━━━\u001b[0m\u001b[37m\u001b[0m \u001b[1m106s\u001b[0m 2s/step - accuracy: 0.6458 - loss: 5.2105 - val_accuracy: 0.6469 - val_loss: 5.0687\n",
      "Epoch 18/50\n",
      "\u001b[1m66/66\u001b[0m \u001b[32m━━━━━━━━━━━━━━━━━━━━\u001b[0m\u001b[37m\u001b[0m \u001b[1m108s\u001b[0m 2s/step - accuracy: 0.6474 - loss: 4.9632 - val_accuracy: 0.6334 - val_loss: 4.8778\n",
      "Epoch 19/50\n",
      "\u001b[1m66/66\u001b[0m \u001b[32m━━━━━━━━━━━━━━━━━━━━\u001b[0m\u001b[37m\u001b[0m \u001b[1m106s\u001b[0m 2s/step - accuracy: 0.6797 - loss: 4.7290 - val_accuracy: 0.6226 - val_loss: 4.7156\n",
      "Epoch 20/50\n",
      "\u001b[1m66/66\u001b[0m \u001b[32m━━━━━━━━━━━━━━━━━━━━\u001b[0m\u001b[37m\u001b[0m \u001b[1m107s\u001b[0m 2s/step - accuracy: 0.6672 - loss: 4.5625 - val_accuracy: 0.6361 - val_loss: 4.5226\n",
      "Epoch 21/50\n",
      "\u001b[1m66/66\u001b[0m \u001b[32m━━━━━━━━━━━━━━━━━━━━\u001b[0m\u001b[37m\u001b[0m \u001b[1m106s\u001b[0m 2s/step - accuracy: 0.6703 - loss: 4.4090 - val_accuracy: 0.6604 - val_loss: 4.3496\n",
      "Epoch 22/50\n",
      "\u001b[1m66/66\u001b[0m \u001b[32m━━━━━━━━━━━━━━━━━━━━\u001b[0m\u001b[37m\u001b[0m \u001b[1m106s\u001b[0m 2s/step - accuracy: 0.6534 - loss: 4.2815 - val_accuracy: 0.6307 - val_loss: 4.2245\n",
      "Epoch 23/50\n",
      "\u001b[1m66/66\u001b[0m \u001b[32m━━━━━━━━━━━━━━━━━━━━\u001b[0m\u001b[37m\u001b[0m \u001b[1m106s\u001b[0m 2s/step - accuracy: 0.6777 - loss: 4.0958 - val_accuracy: 0.6792 - val_loss: 4.0283\n",
      "Epoch 24/50\n",
      "\u001b[1m66/66\u001b[0m \u001b[32m━━━━━━━━━━━━━━━━━━━━\u001b[0m\u001b[37m\u001b[0m \u001b[1m109s\u001b[0m 2s/step - accuracy: 0.6995 - loss: 3.9045 - val_accuracy: 0.6550 - val_loss: 3.9517\n",
      "Epoch 25/50\n",
      "\u001b[1m66/66\u001b[0m \u001b[32m━━━━━━━━━━━━━━━━━━━━\u001b[0m\u001b[37m\u001b[0m \u001b[1m108s\u001b[0m 2s/step - accuracy: 0.6829 - loss: 3.8208 - val_accuracy: 0.6577 - val_loss: 3.8289\n",
      "Epoch 26/50\n",
      "\u001b[1m66/66\u001b[0m \u001b[32m━━━━━━━━━━━━━━━━━━━━\u001b[0m\u001b[37m\u001b[0m \u001b[1m107s\u001b[0m 2s/step - accuracy: 0.6901 - loss: 3.6639 - val_accuracy: 0.6226 - val_loss: 3.7518\n",
      "Epoch 27/50\n",
      "\u001b[1m66/66\u001b[0m \u001b[32m━━━━━━━━━━━━━━━━━━━━\u001b[0m\u001b[37m\u001b[0m \u001b[1m107s\u001b[0m 2s/step - accuracy: 0.6837 - loss: 3.5423 - val_accuracy: 0.6442 - val_loss: 3.6247\n",
      "Epoch 28/50\n",
      "\u001b[1m66/66\u001b[0m \u001b[32m━━━━━━━━━━━━━━━━━━━━\u001b[0m\u001b[37m\u001b[0m \u001b[1m107s\u001b[0m 2s/step - accuracy: 0.7119 - loss: 3.3940 - val_accuracy: 0.6631 - val_loss: 3.5043\n",
      "Epoch 29/50\n",
      "\u001b[1m66/66\u001b[0m \u001b[32m━━━━━━━━━━━━━━━━━━━━\u001b[0m\u001b[37m\u001b[0m \u001b[1m107s\u001b[0m 2s/step - accuracy: 0.7016 - loss: 3.3412 - val_accuracy: 0.6334 - val_loss: 3.4193\n",
      "Epoch 30/50\n",
      "\u001b[1m66/66\u001b[0m \u001b[32m━━━━━━━━━━━━━━━━━━━━\u001b[0m\u001b[37m\u001b[0m \u001b[1m107s\u001b[0m 2s/step - accuracy: 0.7051 - loss: 3.2187 - val_accuracy: 0.6469 - val_loss: 3.3290\n",
      "Epoch 31/50\n",
      "\u001b[1m66/66\u001b[0m \u001b[32m━━━━━━━━━━━━━━━━━━━━\u001b[0m\u001b[37m\u001b[0m \u001b[1m107s\u001b[0m 2s/step - accuracy: 0.7071 - loss: 3.1095 - val_accuracy: 0.6496 - val_loss: 3.2461\n",
      "Epoch 32/50\n",
      "\u001b[1m66/66\u001b[0m \u001b[32m━━━━━━━━━━━━━━━━━━━━\u001b[0m\u001b[37m\u001b[0m \u001b[1m107s\u001b[0m 2s/step - accuracy: 0.7111 - loss: 3.0348 - val_accuracy: 0.6388 - val_loss: 3.1797\n",
      "Epoch 33/50\n",
      "\u001b[1m66/66\u001b[0m \u001b[32m━━━━━━━━━━━━━━━━━━━━\u001b[0m\u001b[37m\u001b[0m \u001b[1m111s\u001b[0m 2s/step - accuracy: 0.7108 - loss: 2.9593 - val_accuracy: 0.6658 - val_loss: 3.0323\n",
      "Epoch 34/50\n",
      "\u001b[1m66/66\u001b[0m \u001b[32m━━━━━━━━━━━━━━━━━━━━\u001b[0m\u001b[37m\u001b[0m \u001b[1m108s\u001b[0m 2s/step - accuracy: 0.7195 - loss: 2.8613 - val_accuracy: 0.6550 - val_loss: 2.9639\n",
      "Epoch 35/50\n",
      "\u001b[1m66/66\u001b[0m \u001b[32m━━━━━━━━━━━━━━━━━━━━\u001b[0m\u001b[37m\u001b[0m \u001b[1m108s\u001b[0m 2s/step - accuracy: 0.7296 - loss: 2.7852 - val_accuracy: 0.6631 - val_loss: 2.8917\n",
      "Epoch 36/50\n",
      "\u001b[1m66/66\u001b[0m \u001b[32m━━━━━━━━━━━━━━━━━━━━\u001b[0m\u001b[37m\u001b[0m \u001b[1m109s\u001b[0m 2s/step - accuracy: 0.7192 - loss: 2.7314 - val_accuracy: 0.6280 - val_loss: 2.9151\n",
      "Epoch 37/50\n",
      "\u001b[1m66/66\u001b[0m \u001b[32m━━━━━━━━━━━━━━━━━━━━\u001b[0m\u001b[37m\u001b[0m \u001b[1m108s\u001b[0m 2s/step - accuracy: 0.7344 - loss: 2.6302 - val_accuracy: 0.6361 - val_loss: 2.8733\n",
      "Epoch 38/50\n",
      "\u001b[1m66/66\u001b[0m \u001b[32m━━━━━━━━━━━━━━━━━━━━\u001b[0m\u001b[37m\u001b[0m \u001b[1m108s\u001b[0m 2s/step - accuracy: 0.7565 - loss: 2.5445 - val_accuracy: 0.6253 - val_loss: 2.7208\n",
      "Epoch 39/50\n",
      "\u001b[1m66/66\u001b[0m \u001b[32m━━━━━━━━━━━━━━━━━━━━\u001b[0m\u001b[37m\u001b[0m \u001b[1m108s\u001b[0m 2s/step - accuracy: 0.7132 - loss: 2.5154 - val_accuracy: 0.6604 - val_loss: 2.6411\n",
      "Epoch 40/50\n",
      "\u001b[1m66/66\u001b[0m \u001b[32m━━━━━━━━━━━━━━━━━━━━\u001b[0m\u001b[37m\u001b[0m \u001b[1m108s\u001b[0m 2s/step - accuracy: 0.7358 - loss: 2.4341 - val_accuracy: 0.6658 - val_loss: 2.5888\n",
      "Epoch 41/50\n",
      "\u001b[1m66/66\u001b[0m \u001b[32m━━━━━━━━━━━━━━━━━━━━\u001b[0m\u001b[37m\u001b[0m \u001b[1m108s\u001b[0m 2s/step - accuracy: 0.7551 - loss: 2.3333 - val_accuracy: 0.6523 - val_loss: 2.5784\n",
      "Epoch 42/50\n",
      "\u001b[1m66/66\u001b[0m \u001b[32m━━━━━━━━━━━━━━━━━━━━\u001b[0m\u001b[37m\u001b[0m \u001b[1m109s\u001b[0m 2s/step - accuracy: 0.7250 - loss: 2.3447 - val_accuracy: 0.6550 - val_loss: 2.5286\n",
      "Epoch 43/50\n",
      "\u001b[1m66/66\u001b[0m \u001b[32m━━━━━━━━━━━━━━━━━━━━\u001b[0m\u001b[37m\u001b[0m \u001b[1m110s\u001b[0m 2s/step - accuracy: 0.7377 - loss: 2.2655 - val_accuracy: 0.6765 - val_loss: 2.4027\n",
      "Epoch 44/50\n",
      "\u001b[1m66/66\u001b[0m \u001b[32m━━━━━━━━━━━━━━━━━━━━\u001b[0m\u001b[37m\u001b[0m \u001b[1m108s\u001b[0m 2s/step - accuracy: 0.7224 - loss: 2.2179 - val_accuracy: 0.6846 - val_loss: 2.3929\n",
      "Epoch 45/50\n",
      "\u001b[1m66/66\u001b[0m \u001b[32m━━━━━━━━━━━━━━━━━━━━\u001b[0m\u001b[37m\u001b[0m \u001b[1m110s\u001b[0m 2s/step - accuracy: 0.7440 - loss: 2.1595 - val_accuracy: 0.6604 - val_loss: 2.3871\n",
      "Epoch 46/50\n",
      "\u001b[1m66/66\u001b[0m \u001b[32m━━━━━━━━━━━━━━━━━━━━\u001b[0m\u001b[37m\u001b[0m \u001b[1m129s\u001b[0m 2s/step - accuracy: 0.7449 - loss: 2.1056 - val_accuracy: 0.6685 - val_loss: 2.2939\n",
      "Epoch 47/50\n",
      "\u001b[1m66/66\u001b[0m \u001b[32m━━━━━━━━━━━━━━━━━━━━\u001b[0m\u001b[37m\u001b[0m \u001b[1m106s\u001b[0m 2s/step - accuracy: 0.7547 - loss: 2.0351 - val_accuracy: 0.6792 - val_loss: 2.2624\n",
      "Epoch 48/50\n",
      "\u001b[1m66/66\u001b[0m \u001b[32m━━━━━━━━━━━━━━━━━━━━\u001b[0m\u001b[37m\u001b[0m \u001b[1m110s\u001b[0m 2s/step - accuracy: 0.7495 - loss: 2.0131 - val_accuracy: 0.6307 - val_loss: 2.3159\n",
      "Epoch 49/50\n",
      "\u001b[1m66/66\u001b[0m \u001b[32m━━━━━━━━━━━━━━━━━━━━\u001b[0m\u001b[37m\u001b[0m \u001b[1m108s\u001b[0m 2s/step - accuracy: 0.7658 - loss: 1.9587 - val_accuracy: 0.6415 - val_loss: 2.2238\n",
      "Epoch 50/50\n",
      "\u001b[1m66/66\u001b[0m \u001b[32m━━━━━━━━━━━━━━━━━━━━\u001b[0m\u001b[37m\u001b[0m \u001b[1m109s\u001b[0m 2s/step - accuracy: 0.7529 - loss: 1.9377 - val_accuracy: 0.6819 - val_loss: 2.1766\n"
     ]
    }
   ],
   "source": [
    "# Add dropout and l2 regularization to dense layers\n",
    "x = baseModel.output\n",
    "x = GlobalAveragePooling2D()(x)\n",
    "x = Dense(512, activation='relu', kernel_regularizer=l2(0.01))(x)\n",
    "x = Dropout(0.3)(x)  # Adding dropout\n",
    "x = Dense(256, activation='relu', kernel_regularizer=l2(0.01))(x)\n",
    "x = Dropout(0.3)(x)  # Adding dropout\n",
    "x = Dense(128, activation='relu', kernel_regularizer=l2(0.01))(x)\n",
    "x = Dropout(0.3)(x)  # Adding dropout\n",
    "\n",
    "predictionLayer = Dense(9, activation='softmax')(x)\n",
    "\n",
    "model1 = Model(inputs=baseModel.input, outputs=predictionLayer)\n",
    "\n",
    "# Freeze the layers of the MobileNetV3 (already trained)\n",
    "for layer in model1.layers[:-8]:\n",
    "    layer.trainable = False\n",
    "\n",
    "# Compile\n",
    "optimizer = Adam(learning_rate=0.0001)\n",
    "model1.compile(loss='categorical_crossentropy', optimizer=optimizer, metrics=['accuracy'])\n",
    "\n",
    "# Implement Early Stopping\n",
    "early_stopping = EarlyStopping(monitor='val_loss', patience=5, restore_best_weights=True)\n",
    "\n",
    "# Train the model with increased epochs\n",
    "history1 = model1.fit(trainGenerator, validation_data=ValidGenerator, epochs=50, callbacks=[early_stopping])\n"
   ]
  },
  {
   "cell_type": "code",
   "execution_count": 14,
   "id": "ca4a7abf-37d5-407e-9dbd-adbef3b0bb2b",
   "metadata": {},
   "outputs": [
    {
     "data": {
      "image/png": "[encoded data removed]",
      "text/plain": [
       "<Figure size 640x480 with 1 Axes>"
      ]
     },
     "metadata": {},
     "output_type": "display_data"
    }
   ],
   "source": [
    "import matplotlib.pyplot as plt\n",
    "plt.plot(history1.history['accuracy'], label='accuracy')\n",
    "plt.plot(history1.history['val_accuracy'], label='val_accuracy')\n",
    "plt.xlabel('Epoch')\n",
    "plt.ylabel('Accuracy')\n",
    "plt.legend()\n",
    "plt.show()"
   ]
  },
  {
   "cell_type": "markdown",
   "id": "d254652f-9e69-46f1-9f8e-a30cf72403ff",
   "metadata": {},
   "source": [
    "accordint to train and validation accuracy we need train our model upto 20 epochs only because further it goes to overfiting"
   ]
  },
  {
   "cell_type": "code",
   "execution_count": 15,
   "id": "67c40f09-c320-4d2b-9fe5-e70282e66df9",
   "metadata": {},
   "outputs": [
    {
     "name": "stdout",
     "output_type": "stream",
     "text": [
      "\u001b[1m12/12\u001b[0m \u001b[32m━━━━━━━━━━━━━━━━━━━━\u001b[0m\u001b[37m\u001b[0m \u001b[1m18s\u001b[0m 1s/step\n",
      "Confusion Matrix:\n",
      "[[ 3  8  9  5  3  2  3  5  3]\n",
      " [ 4  8  1  4  6  5  3  3  7]\n",
      " [ 3  8  4  6  7  2  2  6  4]\n",
      " [ 1  3  3  5  8  3  3 10  5]\n",
      " [ 6  3  6  6  5  2  7  4  3]\n",
      " [ 3  7  8  3  3  4  2  7  4]\n",
      " [ 3  4  3  3  8  1  7  6  6]\n",
      " [ 4  5  3  6  6  1  3  5  8]\n",
      " [ 6  2  6  6  7  3  8  2  1]]\n",
      "\n",
      "Class-wise Accuracy:\n",
      "Class 0: 0.07\n",
      "Class 1: 0.20\n",
      "Class 2: 0.10\n",
      "Class 3: 0.12\n",
      "Class 4: 0.12\n",
      "Class 5: 0.10\n",
      "Class 6: 0.17\n",
      "Class 7: 0.12\n",
      "Class 8: 0.02\n",
      "\n",
      "Classification Report:\n",
      "                precision    recall  f1-score   support\n",
      "\n",
      "     Balushahi       0.09      0.07      0.08        41\n",
      "Besan ke Laddu       0.17      0.20      0.18        41\n",
      "        Jalebi       0.09      0.10      0.09        42\n",
      "    Kaju Katli       0.11      0.12      0.12        41\n",
      "         Modak       0.09      0.12      0.11        42\n",
      "          Peda       0.17      0.10      0.13        41\n",
      "      Rasgulla       0.18      0.17      0.18        41\n",
      "      Rasmalai       0.10      0.12      0.11        41\n",
      "    Soan Papdi       0.02      0.02      0.02        41\n",
      "\n",
      "      accuracy                           0.11       371\n",
      "     macro avg       0.12      0.11      0.11       371\n",
      "  weighted avg       0.12      0.11      0.11       371\n",
      "\n"
     ]
    }
   ],
   "source": [
    "from sklearn.metrics import confusion_matrix, classification_report\n",
    "import numpy as np\n",
    "\n",
    "predictions = model1.predict(ValidGenerator)\n",
    "predicted_labels = np.argmax(predictions, axis=1)\n",
    "\n",
    "true_labels = ValidGenerator.classes\n",
    "\n",
    "# Compute the confusion matrix\n",
    "conf_matrix = confusion_matrix(true_labels, predicted_labels)\n",
    "\n",
    "# Print the confusion matrix\n",
    "print(\"Confusion Matrix:\")\n",
    "print(conf_matrix)\n",
    "\n",
    "# Example: Extracting class-wise accuracy from confusion matrix\n",
    "class_accuracy = conf_matrix.diagonal() / conf_matrix.sum(axis=1)\n",
    "print(\"\\nClass-wise Accuracy:\")\n",
    "for i, accuracy in enumerate(class_accuracy):\n",
    "    print(f\"Class {i}: {accuracy:.2f}\")\n",
    "\n",
    "# Example: Generating a classification report\n",
    "class_names = ['Balushahi', 'Besan ke Laddu', 'Jalebi', 'Kaju Katli', 'Modak', 'Peda', 'Rasgulla', 'Rasmalai', 'Soan Papdi']  \n",
    "print(\"\\nClassification Report:\")\n",
    "print(classification_report(true_labels, predicted_labels, target_names=class_names))"
   ]
  },
  {
   "cell_type": "code",
   "execution_count": null,
   "id": "2b228583-9e44-4088-bda3-c762ec4f5359",
   "metadata": {},
   "outputs": [],
   "source": [
    "As we can in classification report Balushahi and Soan Papdi class model failing to predict I don't have that much diverse data and "
   ]
  },
  {
   "cell_type": "code",
   "execution_count": null,
   "id": "655ff3f1-6174-4eb7-831d-0dbcd5bd10e0",
   "metadata": {},
   "outputs": [],
   "source": []
  },
  {
   "cell_type": "markdown",
   "id": "2f9b5b1e-4d74-4b21-9945-3a44172dd2ee",
   "metadata": {},
   "source": [
    "### To impove model accuracy we can go with below steps\n",
    "\n",
    "**Manual Inspection and Label Correction:** Review and correct mislabeled or ambiguous samples in your dataset. This can help ensure that the model learns from accurate and consistent data, reducing confusion between similar-looking sweets.\\nnce."
   ]
  },
  {
   "cell_type": "markdown",
   "id": "8f2eb6ac-feb8-4ba4-9d87-98d0f8f1008d",
   "metadata": {},
   "source": [
    "**Ensemble Methods:** Combine predictions from multiple models (ensemble methods) to improve overall accuracy. This can involve training multiple models with different architectures or hyperparameters and averaging their predictions.\n",
    "\n"
   ]
  },
  {
   "cell_type": "markdown",
   "id": "8865c4d6-0871-4db7-844f-702de120fcd4",
   "metadata": {},
   "source": [
    "**Collect More Diverse Data:** If possible, collect more diverse data that captures a broader range of variations within each class of sweets. This can help the model learn more robust and discriminative features, leading to better classification performance."
   ]
  },
  {
   "cell_type": "code",
   "execution_count": null,
   "id": "fa9161a5-3366-47fa-8e65-aafe7122817e",
   "metadata": {},
   "outputs": [],
   "source": [
    "model1.save('sweet_model.keras')"
   ]
  },
  {
   "cell_type": "code",
   "execution_count": null,
   "id": "868a0ffa-4e2a-48b4-9fc5-c54fa21dd8ed",
   "metadata": {},
   "outputs": [],
   "source": []
  }
 ],
 "metadata": {
  "kernelspec": {
   "display_name": "Python 3 (ipykernel)",
   "language": "python",
   "name": "python3"
  },
  "language_info": {
   "codemirror_mode": {
    "name": "ipython",
    "version": 3
   },
   "file_extension": ".py",
   "mimetype": "text/x-python",
   "name": "python",
   "nbconvert_exporter": "python",
   "pygments_lexer": "ipython3",
   "version": "3.12.1"
  }
 },
 "nbformat": 4,
 "nbformat_minor": 5
}
